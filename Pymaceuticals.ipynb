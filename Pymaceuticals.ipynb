{
 "cells": [
  {
   "cell_type": "markdown",
   "metadata": {},
   "source": [
    "# Pymaceuticals Observed Trends\n",
    "* Capomulin was legitimately successful at treating the tumors in this population of mice. It was the only treatment of those analyzed to actually reduce the total tumor volume over the course of treatment. Additionally, survival rate was significantly higher compared to the other treatments. It should be noted that metastatic sites still increased over time, but at a rate slower than the other treatments.\n",
    "* Some of the other treatments were arguably less effective than no treatment (Placebo). Ketapril, in particular, was less effective at treating tumor volume than the placebo medication. The growth of metastatic sites for placebo treated mice and ketapril treated mice were indistinguishable given how their errors overlapped. This leads one to believe that Ketapril is not an effective method of treatment.\n",
    "* Infubinol was somewhat of a mixed bag as far as its effectivness. One the one hand, it had a similar trend of treating the tumor volume to Ketapril and the placebo (though it did fair slightly better) and it was the deadliest drug with the lowest survival rate. On the other hand, it led to fewer metastatic sites than both ketapril and placebo (significantly so, as it lies outside ketapril's error). Infubinol, at least, was potentially more effecive than the placebo and warrants some further investigation and alteration."
   ]
  },
  {
   "cell_type": "code",
   "execution_count": 2,
   "metadata": {},
   "outputs": [],
   "source": [
    "# Import dependencies\n",
    "import pandas as pd\n",
    "import matplotlib.pyplot as plt\n",
    "from scipy import stats\n",
    "import numpy as np"
   ]
  },
  {
   "cell_type": "code",
   "execution_count": 3,
   "metadata": {},
   "outputs": [
    {
     "data": {
      "text/html": [
       "<div>\n",
       "<style scoped>\n",
       "    .dataframe tbody tr th:only-of-type {\n",
       "        vertical-align: middle;\n",
       "    }\n",
       "\n",
       "    .dataframe tbody tr th {\n",
       "        vertical-align: top;\n",
       "    }\n",
       "\n",
       "    .dataframe thead th {\n",
       "        text-align: right;\n",
       "    }\n",
       "</style>\n",
       "<table border=\"1\" class=\"dataframe\">\n",
       "  <thead>\n",
       "    <tr style=\"text-align: right;\">\n",
       "      <th></th>\n",
       "      <th>Mouse ID</th>\n",
       "      <th>Timepoint</th>\n",
       "      <th>Tumor Volume (mm3)</th>\n",
       "      <th>Metastatic Sites</th>\n",
       "    </tr>\n",
       "  </thead>\n",
       "  <tbody>\n",
       "    <tr>\n",
       "      <th>0</th>\n",
       "      <td>b128</td>\n",
       "      <td>0</td>\n",
       "      <td>45.0</td>\n",
       "      <td>0</td>\n",
       "    </tr>\n",
       "    <tr>\n",
       "      <th>1</th>\n",
       "      <td>f932</td>\n",
       "      <td>0</td>\n",
       "      <td>45.0</td>\n",
       "      <td>0</td>\n",
       "    </tr>\n",
       "    <tr>\n",
       "      <th>2</th>\n",
       "      <td>g107</td>\n",
       "      <td>0</td>\n",
       "      <td>45.0</td>\n",
       "      <td>0</td>\n",
       "    </tr>\n",
       "    <tr>\n",
       "      <th>3</th>\n",
       "      <td>a457</td>\n",
       "      <td>0</td>\n",
       "      <td>45.0</td>\n",
       "      <td>0</td>\n",
       "    </tr>\n",
       "    <tr>\n",
       "      <th>4</th>\n",
       "      <td>c819</td>\n",
       "      <td>0</td>\n",
       "      <td>45.0</td>\n",
       "      <td>0</td>\n",
       "    </tr>\n",
       "  </tbody>\n",
       "</table>\n",
       "</div>"
      ],
      "text/plain": [
       "  Mouse ID  Timepoint  Tumor Volume (mm3)  Metastatic Sites\n",
       "0     b128          0                45.0                 0\n",
       "1     f932          0                45.0                 0\n",
       "2     g107          0                45.0                 0\n",
       "3     a457          0                45.0                 0\n",
       "4     c819          0                45.0                 0"
      ]
     },
     "execution_count": 3,
     "metadata": {},
     "output_type": "execute_result"
    }
   ],
   "source": [
    "# Read in the clinical trials data into data frames\n",
    "csv_path = 'raw_data/clinicaltrial_data.csv'\n",
    "\n",
    "ct_df = pd.read_csv(csv_path)\n",
    "\n",
    "ct_df.head()"
   ]
  },
  {
   "cell_type": "code",
   "execution_count": 4,
   "metadata": {},
   "outputs": [
    {
     "data": {
      "text/html": [
       "<div>\n",
       "<style scoped>\n",
       "    .dataframe tbody tr th:only-of-type {\n",
       "        vertical-align: middle;\n",
       "    }\n",
       "\n",
       "    .dataframe tbody tr th {\n",
       "        vertical-align: top;\n",
       "    }\n",
       "\n",
       "    .dataframe thead th {\n",
       "        text-align: right;\n",
       "    }\n",
       "</style>\n",
       "<table border=\"1\" class=\"dataframe\">\n",
       "  <thead>\n",
       "    <tr style=\"text-align: right;\">\n",
       "      <th></th>\n",
       "      <th>Mouse ID</th>\n",
       "      <th>Drug</th>\n",
       "    </tr>\n",
       "  </thead>\n",
       "  <tbody>\n",
       "    <tr>\n",
       "      <th>0</th>\n",
       "      <td>f234</td>\n",
       "      <td>Stelasyn</td>\n",
       "    </tr>\n",
       "    <tr>\n",
       "      <th>1</th>\n",
       "      <td>x402</td>\n",
       "      <td>Stelasyn</td>\n",
       "    </tr>\n",
       "    <tr>\n",
       "      <th>2</th>\n",
       "      <td>a492</td>\n",
       "      <td>Stelasyn</td>\n",
       "    </tr>\n",
       "    <tr>\n",
       "      <th>3</th>\n",
       "      <td>w540</td>\n",
       "      <td>Stelasyn</td>\n",
       "    </tr>\n",
       "    <tr>\n",
       "      <th>4</th>\n",
       "      <td>v764</td>\n",
       "      <td>Stelasyn</td>\n",
       "    </tr>\n",
       "  </tbody>\n",
       "</table>\n",
       "</div>"
      ],
      "text/plain": [
       "  Mouse ID      Drug\n",
       "0     f234  Stelasyn\n",
       "1     x402  Stelasyn\n",
       "2     a492  Stelasyn\n",
       "3     w540  Stelasyn\n",
       "4     v764  Stelasyn"
      ]
     },
     "execution_count": 4,
     "metadata": {},
     "output_type": "execute_result"
    }
   ],
   "source": [
    "# Read in the clinical trials data into data frames\n",
    "csv_path = 'raw_data/mouse_drug_data.csv'\n",
    "\n",
    "mouse_df = pd.read_csv(csv_path)\n",
    "\n",
    "mouse_df.head()"
   ]
  },
  {
   "cell_type": "code",
   "execution_count": 5,
   "metadata": {},
   "outputs": [
    {
     "data": {
      "text/html": [
       "<div>\n",
       "<style scoped>\n",
       "    .dataframe tbody tr th:only-of-type {\n",
       "        vertical-align: middle;\n",
       "    }\n",
       "\n",
       "    .dataframe tbody tr th {\n",
       "        vertical-align: top;\n",
       "    }\n",
       "\n",
       "    .dataframe thead th {\n",
       "        text-align: right;\n",
       "    }\n",
       "</style>\n",
       "<table border=\"1\" class=\"dataframe\">\n",
       "  <thead>\n",
       "    <tr style=\"text-align: right;\">\n",
       "      <th></th>\n",
       "      <th>Mouse ID</th>\n",
       "      <th>Timepoint</th>\n",
       "      <th>Tumor Volume (mm3)</th>\n",
       "      <th>Metastatic Sites</th>\n",
       "      <th>Drug</th>\n",
       "    </tr>\n",
       "  </thead>\n",
       "  <tbody>\n",
       "    <tr>\n",
       "      <th>0</th>\n",
       "      <td>b128</td>\n",
       "      <td>0</td>\n",
       "      <td>45.000000</td>\n",
       "      <td>0</td>\n",
       "      <td>Capomulin</td>\n",
       "    </tr>\n",
       "    <tr>\n",
       "      <th>1</th>\n",
       "      <td>b128</td>\n",
       "      <td>5</td>\n",
       "      <td>45.651331</td>\n",
       "      <td>0</td>\n",
       "      <td>Capomulin</td>\n",
       "    </tr>\n",
       "    <tr>\n",
       "      <th>2</th>\n",
       "      <td>b128</td>\n",
       "      <td>10</td>\n",
       "      <td>43.270852</td>\n",
       "      <td>0</td>\n",
       "      <td>Capomulin</td>\n",
       "    </tr>\n",
       "    <tr>\n",
       "      <th>3</th>\n",
       "      <td>b128</td>\n",
       "      <td>15</td>\n",
       "      <td>43.784893</td>\n",
       "      <td>0</td>\n",
       "      <td>Capomulin</td>\n",
       "    </tr>\n",
       "    <tr>\n",
       "      <th>4</th>\n",
       "      <td>b128</td>\n",
       "      <td>20</td>\n",
       "      <td>42.731552</td>\n",
       "      <td>0</td>\n",
       "      <td>Capomulin</td>\n",
       "    </tr>\n",
       "  </tbody>\n",
       "</table>\n",
       "</div>"
      ],
      "text/plain": [
       "  Mouse ID  Timepoint  Tumor Volume (mm3)  Metastatic Sites       Drug\n",
       "0     b128          0           45.000000                 0  Capomulin\n",
       "1     b128          5           45.651331                 0  Capomulin\n",
       "2     b128         10           43.270852                 0  Capomulin\n",
       "3     b128         15           43.784893                 0  Capomulin\n",
       "4     b128         20           42.731552                 0  Capomulin"
      ]
     },
     "execution_count": 5,
     "metadata": {},
     "output_type": "execute_result"
    }
   ],
   "source": [
    "# In order to analyze the data by treatment, we need to merge the data\n",
    "merged_data = pd.merge(ct_df, mouse_df, on=\"Mouse ID\", how=\"inner\")\n",
    "\n",
    "merged_data.head()"
   ]
  },
  {
   "cell_type": "markdown",
   "metadata": {},
   "source": [
    "## Tumor Response to Treatment"
   ]
  },
  {
   "cell_type": "code",
   "execution_count": 6,
   "metadata": {},
   "outputs": [
    {
     "data": {
      "text/html": [
       "<div>\n",
       "<style scoped>\n",
       "    .dataframe tbody tr th:only-of-type {\n",
       "        vertical-align: middle;\n",
       "    }\n",
       "\n",
       "    .dataframe tbody tr th {\n",
       "        vertical-align: top;\n",
       "    }\n",
       "\n",
       "    .dataframe thead th {\n",
       "        text-align: right;\n",
       "    }\n",
       "</style>\n",
       "<table border=\"1\" class=\"dataframe\">\n",
       "  <thead>\n",
       "    <tr style=\"text-align: right;\">\n",
       "      <th></th>\n",
       "      <th></th>\n",
       "      <th>Tumor Volume (mm3)</th>\n",
       "    </tr>\n",
       "    <tr>\n",
       "      <th>Drug</th>\n",
       "      <th>Timepoint</th>\n",
       "      <th></th>\n",
       "    </tr>\n",
       "  </thead>\n",
       "  <tbody>\n",
       "    <tr>\n",
       "      <th rowspan=\"5\" valign=\"top\">Capomulin</th>\n",
       "      <th>0</th>\n",
       "      <td>45.000000</td>\n",
       "    </tr>\n",
       "    <tr>\n",
       "      <th>5</th>\n",
       "      <td>44.266086</td>\n",
       "    </tr>\n",
       "    <tr>\n",
       "      <th>10</th>\n",
       "      <td>43.084291</td>\n",
       "    </tr>\n",
       "    <tr>\n",
       "      <th>15</th>\n",
       "      <td>42.064317</td>\n",
       "    </tr>\n",
       "    <tr>\n",
       "      <th>20</th>\n",
       "      <td>40.716325</td>\n",
       "    </tr>\n",
       "  </tbody>\n",
       "</table>\n",
       "</div>"
      ],
      "text/plain": [
       "                     Tumor Volume (mm3)\n",
       "Drug      Timepoint                    \n",
       "Capomulin 0                   45.000000\n",
       "          5                   44.266086\n",
       "          10                  43.084291\n",
       "          15                  42.064317\n",
       "          20                  40.716325"
      ]
     },
     "execution_count": 6,
     "metadata": {},
     "output_type": "execute_result"
    }
   ],
   "source": [
    "# Subset the data to the Tumor Volume and compute the means, grouped by Drug and Timepoint\n",
    "subset_df = merged_data.loc[:,[\"Timepoint\", \"Drug\", \"Tumor Volume (mm3)\"]]\n",
    "\n",
    "means = subset_df.groupby([\"Drug\", \"Timepoint\"]).mean()\n",
    "\n",
    "means.head()"
   ]
  },
  {
   "cell_type": "code",
   "execution_count": 7,
   "metadata": {},
   "outputs": [
    {
     "data": {
      "text/html": [
       "<div>\n",
       "<style scoped>\n",
       "    .dataframe tbody tr th:only-of-type {\n",
       "        vertical-align: middle;\n",
       "    }\n",
       "\n",
       "    .dataframe tbody tr th {\n",
       "        vertical-align: top;\n",
       "    }\n",
       "\n",
       "    .dataframe thead th {\n",
       "        text-align: right;\n",
       "    }\n",
       "</style>\n",
       "<table border=\"1\" class=\"dataframe\">\n",
       "  <thead>\n",
       "    <tr style=\"text-align: right;\">\n",
       "      <th></th>\n",
       "      <th></th>\n",
       "      <th>Tumor Volume (mm3)</th>\n",
       "    </tr>\n",
       "    <tr>\n",
       "      <th>Drug</th>\n",
       "      <th>Timepoint</th>\n",
       "      <th></th>\n",
       "    </tr>\n",
       "  </thead>\n",
       "  <tbody>\n",
       "    <tr>\n",
       "      <th rowspan=\"5\" valign=\"top\">Capomulin</th>\n",
       "      <th>0</th>\n",
       "      <td>0.000000</td>\n",
       "    </tr>\n",
       "    <tr>\n",
       "      <th>5</th>\n",
       "      <td>0.448593</td>\n",
       "    </tr>\n",
       "    <tr>\n",
       "      <th>10</th>\n",
       "      <td>0.702684</td>\n",
       "    </tr>\n",
       "    <tr>\n",
       "      <th>15</th>\n",
       "      <td>0.838617</td>\n",
       "    </tr>\n",
       "    <tr>\n",
       "      <th>20</th>\n",
       "      <td>0.909731</td>\n",
       "    </tr>\n",
       "  </tbody>\n",
       "</table>\n",
       "</div>"
      ],
      "text/plain": [
       "                     Tumor Volume (mm3)\n",
       "Drug      Timepoint                    \n",
       "Capomulin 0                    0.000000\n",
       "          5                    0.448593\n",
       "          10                   0.702684\n",
       "          15                   0.838617\n",
       "          20                   0.909731"
      ]
     },
     "execution_count": 7,
     "metadata": {},
     "output_type": "execute_result"
    }
   ],
   "source": [
    "# Take the standard error of the grouped data frame\n",
    "sems = subset_df.groupby([\"Drug\", \"Timepoint\"]).sem()\n",
    "\n",
    "sems.head()"
   ]
  },
  {
   "cell_type": "code",
   "execution_count": 8,
   "metadata": {},
   "outputs": [
    {
     "data": {
      "image/png": "[encoded data removed]",
      "text/plain": [
       "<matplotlib.figure.Figure at 0x1c491655ba8>"
      ]
     },
     "metadata": {},
     "output_type": "display_data"
    }
   ],
   "source": [
    "# This scatter plot shows how the tumor volume changes over time for each treatment.\n",
    "plt.errorbar(np.arange(0, 50, 5), means.loc[\"Capomulin\", \"Tumor Volume (mm3)\"],\n",
    "             yerr = sems.loc[\"Capomulin\", \"Tumor Volume (mm3)\"], fmt = '*--', capsize = 2.5, label = \"Capomulin\")\n",
    "plt.errorbar(np.arange(0, 50, 5), means.loc[\"Ketapril\", \"Tumor Volume (mm3)\"],\n",
    "             yerr = sems.loc[\"Ketapril\", \"Tumor Volume (mm3)\"], fmt = '^--', capsize = 2.5, label = \"Ketapril\")\n",
    "plt.errorbar(np.arange(0, 50, 5), means.loc[\"Placebo\", \"Tumor Volume (mm3)\"],\n",
    "             yerr = sems.loc[\"Placebo\", \"Tumor Volume (mm3)\"], fmt = 's--', capsize = 2.5, label = \"Placebo\")\n",
    "plt.errorbar(np.arange(0, 50, 5), means.loc[\"Infubinol\", \"Tumor Volume (mm3)\"],\n",
    "             yerr = sems.loc[\"Infubinol\", \"Tumor Volume (mm3)\"], fmt = 'o--', capsize = 2.5, label = \"Infubinol\")\n",
    "\n",
    "# Add legend\n",
    "plt.legend(loc=\"best\")\n",
    "\n",
    "# Add gridlines\n",
    "plt.grid(alpha = 0.5)\n",
    "\n",
    "# Add labels\n",
    "plt.title('Tumor Response to Treatment')\n",
    "plt.xlabel('Time (days)')\n",
    "plt.ylabel('Tumor Volume (mm3)')\n",
    "\n",
    "# Add x limits and y limits\n",
    "plt.xlim(0,45)\n",
    "plt.ylim(34,75)\n",
    "\n",
    "# Plot the graph\n",
    "plt.show()"
   ]
  },
  {
   "cell_type": "markdown",
   "metadata": {},
   "source": [
    "## Metastatic Response to Treatment"
   ]
  },
  {
   "cell_type": "code",
   "execution_count": 9,
   "metadata": {},
   "outputs": [
    {
     "data": {
      "text/html": [
       "<div>\n",
       "<style scoped>\n",
       "    .dataframe tbody tr th:only-of-type {\n",
       "        vertical-align: middle;\n",
       "    }\n",
       "\n",
       "    .dataframe tbody tr th {\n",
       "        vertical-align: top;\n",
       "    }\n",
       "\n",
       "    .dataframe thead th {\n",
       "        text-align: right;\n",
       "    }\n",
       "</style>\n",
       "<table border=\"1\" class=\"dataframe\">\n",
       "  <thead>\n",
       "    <tr style=\"text-align: right;\">\n",
       "      <th></th>\n",
       "      <th></th>\n",
       "      <th>Metastatic Sites</th>\n",
       "    </tr>\n",
       "    <tr>\n",
       "      <th>Drug</th>\n",
       "      <th>Timepoint</th>\n",
       "      <th></th>\n",
       "    </tr>\n",
       "  </thead>\n",
       "  <tbody>\n",
       "    <tr>\n",
       "      <th rowspan=\"5\" valign=\"top\">Capomulin</th>\n",
       "      <th>0</th>\n",
       "      <td>0.000000</td>\n",
       "    </tr>\n",
       "    <tr>\n",
       "      <th>5</th>\n",
       "      <td>0.160000</td>\n",
       "    </tr>\n",
       "    <tr>\n",
       "      <th>10</th>\n",
       "      <td>0.320000</td>\n",
       "    </tr>\n",
       "    <tr>\n",
       "      <th>15</th>\n",
       "      <td>0.375000</td>\n",
       "    </tr>\n",
       "    <tr>\n",
       "      <th>20</th>\n",
       "      <td>0.652174</td>\n",
       "    </tr>\n",
       "  </tbody>\n",
       "</table>\n",
       "</div>"
      ],
      "text/plain": [
       "                     Metastatic Sites\n",
       "Drug      Timepoint                  \n",
       "Capomulin 0                  0.000000\n",
       "          5                  0.160000\n",
       "          10                 0.320000\n",
       "          15                 0.375000\n",
       "          20                 0.652174"
      ]
     },
     "execution_count": 9,
     "metadata": {},
     "output_type": "execute_result"
    }
   ],
   "source": [
    "# Subset the data to the Metastatic Sites and compute the means, grouped by Drug and Timepoint\n",
    "subset_df = merged_data.loc[:,[\"Timepoint\", \"Drug\", \"Metastatic Sites\"]]\n",
    "\n",
    "means = subset_df.groupby([\"Drug\", \"Timepoint\"]).mean()\n",
    "\n",
    "means.head()"
   ]
  },
  {
   "cell_type": "code",
   "execution_count": 10,
   "metadata": {},
   "outputs": [
    {
     "data": {
      "text/html": [
       "<div>\n",
       "<style scoped>\n",
       "    .dataframe tbody tr th:only-of-type {\n",
       "        vertical-align: middle;\n",
       "    }\n",
       "\n",
       "    .dataframe tbody tr th {\n",
       "        vertical-align: top;\n",
       "    }\n",
       "\n",
       "    .dataframe thead th {\n",
       "        text-align: right;\n",
       "    }\n",
       "</style>\n",
       "<table border=\"1\" class=\"dataframe\">\n",
       "  <thead>\n",
       "    <tr style=\"text-align: right;\">\n",
       "      <th></th>\n",
       "      <th></th>\n",
       "      <th>Metastatic Sites</th>\n",
       "    </tr>\n",
       "    <tr>\n",
       "      <th>Drug</th>\n",
       "      <th>Timepoint</th>\n",
       "      <th></th>\n",
       "    </tr>\n",
       "  </thead>\n",
       "  <tbody>\n",
       "    <tr>\n",
       "      <th rowspan=\"5\" valign=\"top\">Capomulin</th>\n",
       "      <th>0</th>\n",
       "      <td>0.000000</td>\n",
       "    </tr>\n",
       "    <tr>\n",
       "      <th>5</th>\n",
       "      <td>0.074833</td>\n",
       "    </tr>\n",
       "    <tr>\n",
       "      <th>10</th>\n",
       "      <td>0.125433</td>\n",
       "    </tr>\n",
       "    <tr>\n",
       "      <th>15</th>\n",
       "      <td>0.132048</td>\n",
       "    </tr>\n",
       "    <tr>\n",
       "      <th>20</th>\n",
       "      <td>0.161621</td>\n",
       "    </tr>\n",
       "  </tbody>\n",
       "</table>\n",
       "</div>"
      ],
      "text/plain": [
       "                     Metastatic Sites\n",
       "Drug      Timepoint                  \n",
       "Capomulin 0                  0.000000\n",
       "          5                  0.074833\n",
       "          10                 0.125433\n",
       "          15                 0.132048\n",
       "          20                 0.161621"
      ]
     },
     "execution_count": 10,
     "metadata": {},
     "output_type": "execute_result"
    }
   ],
   "source": [
    "# Take the standard error of the grouped data frame\n",
    "sems = subset_df.groupby([\"Drug\", \"Timepoint\"]).sem()\n",
    "\n",
    "sems.head()"
   ]
  },
  {
   "cell_type": "code",
   "execution_count": 11,
   "metadata": {},
   "outputs": [
    {
     "data": {
      "image/png": "[encoded data removed]",
      "text/plain": [
       "<matplotlib.figure.Figure at 0x1c4919fc080>"
      ]
     },
     "metadata": {},
     "output_type": "display_data"
    }
   ],
   "source": [
    "# This scatter plot shows how the tumor volume changes over time for each treatment.\n",
    "plt.errorbar(np.arange(0, 50, 5), means.loc[\"Capomulin\", \"Metastatic Sites\"],\n",
    "             yerr = sems.loc[\"Capomulin\", \"Metastatic Sites\"], fmt = '*--', capsize = 2.5, label = \"Capomulin\")\n",
    "plt.errorbar(np.arange(0, 50, 5), means.loc[\"Ketapril\", \"Metastatic Sites\"],\n",
    "             yerr = sems.loc[\"Ketapril\", \"Metastatic Sites\"], fmt = '^--', capsize = 2.5, label = \"Ketapril\")\n",
    "plt.errorbar(np.arange(0, 50, 5), means.loc[\"Placebo\", \"Metastatic Sites\"],\n",
    "             yerr = sems.loc[\"Placebo\", \"Metastatic Sites\"], fmt = 's--', capsize = 2.5, label = \"Placebo\")\n",
    "plt.errorbar(np.arange(0, 50, 5), means.loc[\"Infubinol\", \"Metastatic Sites\"],\n",
    "             yerr = sems.loc[\"Infubinol\", \"Metastatic Sites\"], fmt = 'o--', capsize = 2.5, label = \"Infubinol\")\n",
    "\n",
    "# Add legend\n",
    "plt.legend(loc=\"best\")\n",
    "\n",
    "# Add gridlines\n",
    "plt.grid(alpha = 0.5)\n",
    "\n",
    "# Add labels\n",
    "plt.title('Metastatic Response to Treatment')\n",
    "plt.xlabel('Time (days)')\n",
    "plt.ylabel('Metastatic Sites')\n",
    "\n",
    "# Add x limits and y limits\n",
    "plt.xlim(0,45)\n",
    "plt.ylim(0,4)\n",
    "\n",
    "# Plot the graph\n",
    "plt.show()"
   ]
  },
  {
   "cell_type": "markdown",
   "metadata": {},
   "source": [
    "## Survival Rate"
   ]
  },
  {
   "cell_type": "code",
   "execution_count": 12,
   "metadata": {},
   "outputs": [
    {
     "data": {
      "text/html": [
       "<div>\n",
       "<style scoped>\n",
       "    .dataframe tbody tr th:only-of-type {\n",
       "        vertical-align: middle;\n",
       "    }\n",
       "\n",
       "    .dataframe tbody tr th {\n",
       "        vertical-align: top;\n",
       "    }\n",
       "\n",
       "    .dataframe thead th {\n",
       "        text-align: right;\n",
       "    }\n",
       "</style>\n",
       "<table border=\"1\" class=\"dataframe\">\n",
       "  <thead>\n",
       "    <tr style=\"text-align: right;\">\n",
       "      <th></th>\n",
       "      <th></th>\n",
       "      <th>Mouse Count</th>\n",
       "    </tr>\n",
       "    <tr>\n",
       "      <th>Drug</th>\n",
       "      <th>Timepoint</th>\n",
       "      <th></th>\n",
       "    </tr>\n",
       "  </thead>\n",
       "  <tbody>\n",
       "    <tr>\n",
       "      <th rowspan=\"5\" valign=\"top\">Capomulin</th>\n",
       "      <th>0</th>\n",
       "      <td>25</td>\n",
       "    </tr>\n",
       "    <tr>\n",
       "      <th>5</th>\n",
       "      <td>25</td>\n",
       "    </tr>\n",
       "    <tr>\n",
       "      <th>10</th>\n",
       "      <td>25</td>\n",
       "    </tr>\n",
       "    <tr>\n",
       "      <th>15</th>\n",
       "      <td>24</td>\n",
       "    </tr>\n",
       "    <tr>\n",
       "      <th>20</th>\n",
       "      <td>23</td>\n",
       "    </tr>\n",
       "  </tbody>\n",
       "</table>\n",
       "</div>"
      ],
      "text/plain": [
       "                     Mouse Count\n",
       "Drug      Timepoint             \n",
       "Capomulin 0                   25\n",
       "          5                   25\n",
       "          10                  25\n",
       "          15                  24\n",
       "          20                  23"
      ]
     },
     "execution_count": 12,
     "metadata": {},
     "output_type": "execute_result"
    }
   ],
   "source": [
    "# Subset the data to be grouped by Drug and Timepoint and take a count of Mouse ID to find overal survival\n",
    "grouped_df = merged_data.groupby([\"Drug\", \"Timepoint\"])\n",
    "\n",
    "subset_df = grouped_df[[\"Mouse ID\"]].count().rename(columns={\"Mouse ID\": \"Mouse Count\"})\n",
    "\n",
    "subset_df.head()"
   ]
  },
  {
   "cell_type": "code",
   "execution_count": 13,
   "metadata": {},
   "outputs": [
    {
     "data": {
      "image/png": "[encoded data removed]",
      "text/plain": [
       "<matplotlib.figure.Figure at 0x1c491a245c0>"
      ]
     },
     "metadata": {},
     "output_type": "display_data"
    }
   ],
   "source": [
    "# This scatter plot shows how the survival rate changes over time for each treatment.\n",
    "# Note that we multiply by 100 and divide by 25 (aka multiply by 4) in order to get a percentage\n",
    "plt.plot(np.arange(0, 50, 5), 100*subset_df.loc[\"Capomulin\", \"Mouse Count\"]/25,\n",
    "         marker = '*', label = \"Capomulin\", linestyle ='--')\n",
    "plt.plot(np.arange(0, 50, 5), 100*subset_df.loc[\"Ketapril\", \"Mouse Count\"]/25,\n",
    "         marker = '^', label = \"Ketapril\", linestyle = '--')\n",
    "plt.plot(np.arange(0, 50, 5), 100*subset_df.loc[\"Placebo\", \"Mouse Count\"]/25,\n",
    "         marker = 's', label = \"Placebo\", linestyle ='--')\n",
    "plt.plot(np.arange(0, 50, 5), 100*subset_df.loc[\"Infubinol\", \"Mouse Count\"]/25,\n",
    "         marker = 'o', label = \"Infubinol\", linestyle ='--')\n",
    "\n",
    "# Add legend\n",
    "plt.legend(loc=\"best\")\n",
    "\n",
    "# Add gridlines\n",
    "plt.grid(alpha = 0.5)\n",
    "\n",
    "# Add labels\n",
    "plt.title('Survival During Treatment')\n",
    "plt.xlabel('Time (days)')\n",
    "plt.ylabel('Survival Rate (%)')\n",
    "\n",
    "# Add x limits and y limits\n",
    "plt.xlim(0,45)\n",
    "plt.ylim(30,100)\n",
    "\n",
    "# Plot the graph\n",
    "plt.show()"
   ]
  },
  {
   "cell_type": "markdown",
   "metadata": {},
   "source": [
    "## Summary Bar Graph"
   ]
  },
  {
   "cell_type": "code",
   "execution_count": 14,
   "metadata": {},
   "outputs": [
    {
     "name": "stdout",
     "output_type": "stream",
     "text": [
      "Drug\n",
      "Capomulin   -18.516516\n",
      "Ceftamin     28.342171\n",
      "Infubinol    30.442222\n",
      "Ketapril     39.569314\n",
      "Naftisol     36.012793\n",
      "Placebo      34.463143\n",
      "Propriva     26.580767\n",
      "Ramicane    -19.574688\n",
      "Stelasyn     35.827583\n",
      "Zoniferol    31.513906\n",
      "Name: Tumor Volume (mm3), dtype: float64\n"
     ]
    }
   ],
   "source": [
    "# Compute the initial volume of the tumors by drug by summing all values at timepoint 0.\n",
    "initial_volumes = merged_data.loc[(merged_data[\"Timepoint\"] == 0), [\"Drug\", \"Tumor Volume (mm3)\"]]\n",
    "init_vol = initial_volumes.groupby(\"Drug\")[\"Tumor Volume (mm3)\"].sum()\n",
    "\n",
    "# Initialize a tracking data frame. Then loop through each mouse to find their final tumor volume and record it.\n",
    "end_vol = pd.DataFrame(columns = ['Drug', 'Tumor Volume (mm3)'])\n",
    "\n",
    "for mouse in mouse_df[\"Mouse ID\"]:\n",
    "    max_time = merged_data.loc[merged_data[\"Mouse ID\"] == mouse, \"Timepoint\"].max()\n",
    "    vol_final = merged_data.loc[(merged_data[\"Timepoint\"] == max_time) & (merged_data[\"Mouse ID\"] == mouse),\n",
    "                                [\"Drug\", \"Tumor Volume (mm3)\"]]    \n",
    "    end_vol = pd.concat([end_vol, vol_final])\n",
    "\n",
    "# Group the final volumes by drug so we can compare it to the initial volume\n",
    "end_grouped = end_vol.groupby(\"Drug\")[\"Tumor Volume (mm3)\"].sum()\n",
    "\n",
    "# Subtract the initial volume from the final volume and divide by the initial volume to get the % difference\n",
    "vol_change = 100*(end_grouped - init_vol)/init_vol\n",
    "\n",
    "print(vol_change)"
   ]
  },
  {
   "cell_type": "code",
   "execution_count": 72,
   "metadata": {},
   "outputs": [],
   "source": [
    "# Referencing http://composition.al/blog/2015/11/29/a-better-way-to-add-labels-to-bar-charts-with-matplotlib/\n",
    "# This funciton labels each bar (rectangle object) with its height value\n",
    "def autolabel(rects, ax):\n",
    "    # Get y-axis height to calculate label position from.\n",
    "    (y_bottom, y_top) = ax.get_ylim()\n",
    "    y_height = y_top - y_bottom\n",
    "\n",
    "    for rect in rects:\n",
    "        height = rect.get_height()\n",
    "        \n",
    "        # Just print the percentage in the center of the bar\n",
    "        label_position = height/2\n",
    "\n",
    "        ax.text(rect.get_x() + rect.get_width()/2., label_position,str('%d' % int(height)) + '%',\n",
    "                ha='center', va='bottom', color = 'w', size = 14)"
   ]
  },
  {
   "cell_type": "code",
   "execution_count": 73,
   "metadata": {},
   "outputs": [
    {
     "data": {
      "image/png": "[encoded data removed]",
      "text/plain": [
       "<matplotlib.figure.Figure at 0x1c491b1e898>"
      ]
     },
     "metadata": {},
     "output_type": "display_data"
    }
   ],
   "source": [
    "# Plot the bar chart for percent change\n",
    "fig, ax = plt.subplots()\n",
    "\n",
    "x_axis = np.arange(0,4,1)\n",
    "heights = [vol_change[\"Capomulin\"], vol_change[\"Ketapril\"], vol_change[\"Placebo\"], vol_change[\"Infubinol\"]]\n",
    "labels = [\"Capomulin\", \"Ketapril\", \"Placebo\", \"Infubinol\"]\n",
    "colors = []\n",
    "\n",
    "# If the change in volume is positive, assign the color red, else green\n",
    "for vols in heights:\n",
    "    if vols >= 0:\n",
    "        colors.append('r')\n",
    "    else:\n",
    "        colors.append('g')\n",
    "\n",
    "barplot = ax.bar(x_axis, heights, width = 1, align='center', color = colors,\n",
    "                 edgecolor = 'black', linewidth = 1, tick_label = labels)\n",
    "\n",
    "# Add labeling\n",
    "ax.set_title(\"Tumor Change over 45 Day Treatment\")\n",
    "ax.set_ylabel(\"% Tumor Volume Change\")\n",
    "\n",
    "# Add Gridlines\n",
    "ax.grid(alpha = 0.25)\n",
    "\n",
    "# Adjust axis\n",
    "ax.set_xlim(-.5,3.5)\n",
    "ax.set_ylim(min(heights), max(heights)+5)\n",
    "\n",
    "# Add labels for the percentages\n",
    "autolabel(barplot, ax)\n",
    "\n",
    "plt.show()"
   ]
  },
  {
   "cell_type": "code",
   "execution_count": null,
   "metadata": {},
   "outputs": [],
   "source": []
  }
 ],
 "metadata": {
  "kernelspec": {
   "display_name": "Python 3",
   "language": "python",
   "name": "python3"
  },
  "language_info": {
   "codemirror_mode": {
    "name": "ipython",
    "version": 3
   },
   "file_extension": ".py",
   "mimetype": "text/x-python",
   "name": "python",
   "nbconvert_exporter": "python",
   "pygments_lexer": "ipython3",
   "version": "3.6.4"
  }
 },
 "nbformat": 4,
 "nbformat_minor": 2
}
